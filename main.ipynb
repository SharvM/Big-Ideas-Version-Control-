user_input = input("Please enter your name: ")
numerical_input = int(input("Please provide a number: "))

for i in range(0, numerical_input):
  print(f"Hello! You are {user_input}!!!")
