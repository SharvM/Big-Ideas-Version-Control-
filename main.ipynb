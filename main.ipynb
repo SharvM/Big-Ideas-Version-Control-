{
 "cells": [
  {
   "cell_type": "code",
   "execution_count": null,
   "metadata": {},
   "outputs": [],
   "source": [
    "user_input = input(\"Please enter your name: \")\n",
    "numerical_input = int(input(\"Please provide a number: \"))\n",
    "\n",
    "for i in range(0, numerical_input):\n",
    "    print(f\"Hello! You are {user_input}!\")\n",
    "\n",
    "print(f\"Your name is {len(user_input)} characters long\")\n"
   ]
  }
 ],
 "metadata": {
  "kernelspec": {
   "display_name": "Python 3",
   "language": "python",
   "name": "python3"
  },
  "language_info": {
   "codemirror_mode": {
    "name": "ipython",
    "version": 3
   },
   "file_extension": ".py",
   "mimetype": "text/x-python",
   "name": "python",
   "nbconvert_exporter": "python",
   "pygments_lexer": "ipython3",
   "version": "3.12.1"
  }
 },
 "nbformat": 4,
 "nbformat_minor": 2
}
